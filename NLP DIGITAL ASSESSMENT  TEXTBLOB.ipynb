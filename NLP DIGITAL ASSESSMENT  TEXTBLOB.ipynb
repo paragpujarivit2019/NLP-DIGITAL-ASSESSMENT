{
 "cells": [
  {
   "cell_type": "code",
   "execution_count": 1,
   "metadata": {},
   "outputs": [],
   "source": [
    "# Importing the textBlob\n",
    "from textblob import TextBlob"
   ]
  },
  {
   "cell_type": "code",
   "execution_count": 2,
   "metadata": {},
   "outputs": [
    {
     "name": "stdout",
     "output_type": "stream",
     "text": [
      "[Sentence(\"Sambalpuri is an Indo-Aryan language variety spoken in western Odisha, India.\"), Sentence(\"It is alternatively known as Western Odia, and as Kosali, a recently popularised but controversial term, which draws on an association with the ancient Kosala, whose vast territories also included the present-day Sambalpur region.\")]\n",
      "Sambalpuri\n",
      "is\n",
      "an\n",
      "Indo-Aryan\n",
      "language\n",
      "variety\n",
      "spoken\n",
      "in\n",
      "western\n",
      "Odisha\n",
      "India\n"
     ]
    }
   ],
   "source": [
    "blob = TextBlob(\"Sambalpuri is an Indo-Aryan language variety spoken in western Odisha, India. \\n It is alternatively known as Western Odia, and as Kosali, a recently popularised but controversial term, which draws on an association with the ancient Kosala, whose vast territories also included the present-day Sambalpur region.\")\n",
    "\n",
    "print(blob.sentences)\n",
    "\n",
    "## printing words of first sentence\n",
    "for words in blob.sentences[0].words:  \n",
    "  print (words)"
   ]
  },
  {
   "cell_type": "code",
   "execution_count": 3,
   "metadata": {},
   "outputs": [
    {
     "name": "stdout",
     "output_type": "stream",
     "text": [
      "sambalpuri\n",
      "indo-aryan\n",
      "language variety\n",
      "odisha\n",
      "india\n"
     ]
    }
   ],
   "source": [
    "# Determining the noun phrases\n",
    "blob = TextBlob(\"Sambalpuri is an Indo-Aryan language variety spoken in western Odisha, India.\")\n",
    "for np in blob.noun_phrases:\n",
    " print (np)"
   ]
  },
  {
   "cell_type": "code",
   "execution_count": 4,
   "metadata": {},
   "outputs": [
    {
     "name": "stdout",
     "output_type": "stream",
     "text": [
      "Sambalpuri NNP\n",
      "is VBZ\n",
      "an DT\n",
      "Indo-Aryan JJ\n",
      "language NN\n",
      "variety NN\n",
      "spoken VBN\n",
      "in IN\n",
      "western JJ\n",
      "Odisha NNP\n",
      "India NNP\n"
     ]
    }
   ],
   "source": [
    "# Performing Parts of speech tagging\n",
    "for words, tag in blob.tags:\n",
    "    print (words, tag)"
   ]
  },
  {
   "cell_type": "code",
   "execution_count": 5,
   "metadata": {},
   "outputs": [
    {
     "name": "stdout",
     "output_type": "stream",
     "text": [
      "draws\n",
      "draw\n"
     ]
    }
   ],
   "source": [
    "# Singularizing the word\n",
    "blob = TextBlob(\"Sambalpuri is an Indo-Aryan language variety spoken in western Odisha, India. \\n It is alternatively known as Western Odia, and as Kosali, a recently popularised but controversial term, which draws on an association with the ancient Kosala, whose vast territories also included the present-day Sambalpur region.\")\n",
    "print (blob.sentences[1].words[17])\n",
    "print (blob.sentences[1].words[17].singularize())"
   ]
  },
  {
   "cell_type": "code",
   "execution_count": 6,
   "metadata": {},
   "outputs": [
    {
     "data": {
      "text/plain": [
       "'regions'"
      ]
     },
     "execution_count": 6,
     "metadata": {},
     "output_type": "execute_result"
    }
   ],
   "source": [
    "#Pluralizing the word\n",
    "from textblob import Word\n",
    "w = Word('region')\n",
    "w.pluralize()"
   ]
  },
  {
   "cell_type": "code",
   "execution_count": 7,
   "metadata": {},
   "outputs": [
    {
     "name": "stdout",
     "output_type": "stream",
     "text": [
      "languages\n",
      "varieties\n",
      "terms\n",
      "associations\n",
      "ancients\n",
      "regions\n"
     ]
    }
   ],
   "source": [
    "## using tags\n",
    "for word,pos in blob.tags:\n",
    "    if pos == 'NN':\n",
    "        print (word.pluralize())"
   ]
  },
  {
   "cell_type": "code",
   "execution_count": 8,
   "metadata": {},
   "outputs": [
    {
     "data": {
      "text/plain": [
       "'swim'"
      ]
     },
     "execution_count": 8,
     "metadata": {},
     "output_type": "execute_result"
    }
   ],
   "source": [
    "## lemmatization\n",
    "w = Word('swimming')\n",
    "w.lemmatize(\"v\") ## v here represents verb"
   ]
  },
  {
   "cell_type": "code",
   "execution_count": 9,
   "metadata": {},
   "outputs": [
    {
     "name": "stdout",
     "output_type": "stream",
     "text": [
      "['Sambalpuri', 'is']\n",
      "['is', 'an']\n",
      "['an', 'Indo-Aryan']\n",
      "['Indo-Aryan', 'language']\n",
      "['language', 'variety']\n",
      "['variety', 'spoken']\n",
      "['spoken', 'in']\n",
      "['in', 'western']\n",
      "['western', 'Odisha']\n",
      "['Odisha', 'India']\n",
      "['India', 'It']\n",
      "['It', 'is']\n",
      "['is', 'alternatively']\n",
      "['alternatively', 'known']\n",
      "['known', 'as']\n",
      "['as', 'Western']\n",
      "['Western', 'Odia']\n",
      "['Odia', 'and']\n",
      "['and', 'as']\n",
      "['as', 'Kosali']\n",
      "['Kosali', 'a']\n",
      "['a', 'recently']\n",
      "['recently', 'popularised']\n",
      "['popularised', 'but']\n",
      "['but', 'controversial']\n",
      "['controversial', 'term']\n",
      "['term', 'which']\n",
      "['which', 'draws']\n",
      "['draws', 'on']\n",
      "['on', 'an']\n",
      "['an', 'association']\n",
      "['association', 'with']\n",
      "['with', 'the']\n",
      "['the', 'ancient']\n",
      "['ancient', 'Kosala']\n",
      "['Kosala', 'whose']\n",
      "['whose', 'vast']\n",
      "['vast', 'territories']\n",
      "['territories', 'also']\n",
      "['also', 'included']\n",
      "['included', 'the']\n",
      "['the', 'present-day']\n",
      "['present-day', 'Sambalpur']\n",
      "['Sambalpur', 'region']\n"
     ]
    }
   ],
   "source": [
    "# Performing N-Grams Operation\n",
    "for ngram in blob.ngrams(2):\n",
    "    print (ngram)"
   ]
  },
  {
   "cell_type": "code",
   "execution_count": 10,
   "metadata": {},
   "outputs": [
    {
     "name": "stdout",
     "output_type": "stream",
     "text": [
      "Sambalpuri is an Indo-Aryan language variety spoken in western Odisha, India. \n",
      " It is alternatively known as Western Odia, and as Kosali, a recently popularised but controversial term, which draws on an association with the ancient Kosala, whose vast territories also included the present-day Sambalpur region.\n"
     ]
    },
    {
     "data": {
      "text/plain": [
       "Sentiment(polarity=0.11000000000000001, subjectivity=0.44000000000000006)"
      ]
     },
     "execution_count": 10,
     "metadata": {},
     "output_type": "execute_result"
    }
   ],
   "source": [
    "# Printing the blob \n",
    "print (blob)\n",
    "blob.sentiment"
   ]
  },
  {
   "cell_type": "code",
   "execution_count": 11,
   "metadata": {},
   "outputs": [
    {
     "data": {
      "text/plain": [
       "TextBlob(\"Sambalpuri is an Undo-Bryan language variety spoken in western Dish, India.\")"
      ]
     },
     "execution_count": 11,
     "metadata": {},
     "output_type": "execute_result"
    }
   ],
   "source": [
    "# Performing the correction of the Bolb sentence\n",
    "blob = TextBlob('Sambalpuri is an Indo-Aryan language variety spoken in western Odisha, India.')\n",
    "blob.correct()"
   ]
  },
  {
   "cell_type": "code",
   "execution_count": 12,
   "metadata": {},
   "outputs": [
    {
     "data": {
      "text/plain": [
       "[('language', 1.0)]"
      ]
     },
     "execution_count": 12,
     "metadata": {},
     "output_type": "execute_result"
    }
   ],
   "source": [
    "# Performing the spell check\n",
    "blob.words[4].spellcheck()"
   ]
  },
  {
   "cell_type": "code",
   "execution_count": 13,
   "metadata": {},
   "outputs": [],
   "source": [
    "# Importing the random\n",
    "import random\n",
    "\n",
    "blob = TextBlob('Sambalpuri is an Indo-Aryan language variety spoken in western Odisha, India. It is \\\n",
    "alternatively known as Western Odia, and as Kosali, a recently popularised but controversial term, which draws on an association with the ancient Kosala, whose vast territories also included the present-day Sambalpur region.There has \\\n",
    "been a language movement campaigning for the recognition of the language. Its main objective has \\\n",
    "been the inclusion of the language into the 8th schedule of the Indian constitution.')"
   ]
  },
  {
   "cell_type": "code",
   "execution_count": 14,
   "metadata": {},
   "outputs": [
    {
     "name": "stdout",
     "output_type": "stream",
     "text": [
      "This text is about...\n",
      "languages\n",
      "recognitions\n",
      "varieties\n",
      "terms\n",
      "inclusions\n"
     ]
    }
   ],
   "source": [
    "# Performing the pluralization of every word\n",
    "nouns = list()\n",
    "for word, tag in blob.tags:\n",
    "    if tag == 'NN':\n",
    "        nouns.append(word.lemmatize())\n",
    "print (\"This text is about...\")\n",
    "for item in random.sample(nouns, 5):\n",
    "    word = Word(item)\n",
    "    print (word.pluralize())"
   ]
  },
  {
   "cell_type": "code",
   "execution_count": 15,
   "metadata": {},
   "outputs": [
    {
     "data": {
      "text/plain": [
       "'en'"
      ]
     },
     "execution_count": 15,
     "metadata": {},
     "output_type": "execute_result"
    }
   ],
   "source": [
    "# Detecting the language\n",
    "blob.detect_language()"
   ]
  },
  {
   "cell_type": "code",
   "execution_count": 16,
   "metadata": {},
   "outputs": [
    {
     "data": {
      "text/plain": [
       "TextBlob(\"Le sambalpuri est une variété de langue indo-aryenne parlée dans l'ouest d'Odisha, en Inde. Il est également connu sous le nom d'Odia occidental et de Kosali, un terme récemment popularisé mais controversé, qui s'appuie sur une association avec l'ancienne Kosala, dont les vastes territoires comprenaient également la région actuelle de Sambalpur. Un mouvement linguistique a fait campagne pour reconnaissance de la langue. Son objectif principal a été l'inclusion de la langue dans le 8ème calendrier de la constitution indienne.\")"
      ]
     },
     "execution_count": 16,
     "metadata": {},
     "output_type": "execute_result"
    }
   ],
   "source": [
    "# Translating the language from english to french\n",
    "blob.translate(from_lang='en', to ='fr')"
   ]
  },
  {
   "cell_type": "code",
   "execution_count": 17,
   "metadata": {},
   "outputs": [],
   "source": [
    "# Taking the training and testing data\n",
    "training = [\n",
    "('Tom Holland is a terrible spiderman.','pos'),\n",
    "('a terrible Javert (Russell Crowe) ruined Les Miserables for me...','pos'),\n",
    "('The Dark Knight Rises is the greatest superhero movie ever!','neg'),\n",
    "('Fantastic Four should have never been made.','pos'),\n",
    "('Wes Anderson is my favorite director!','neg'),\n",
    "('Captain America 2 is pretty awesome.','neg'),\n",
    "('Let\\s pretend \"Batman and Robin\" never happened..','pos'),\n",
    "]\n",
    "testing = [\n",
    "('Superman was never an interesting character.','pos'),\n",
    "('Fantastic Mr Fox is an awesome film!','neg'),\n",
    "('Dragonball Evolution is simply terrible!!','pos')\n",
    "]"
   ]
  },
  {
   "cell_type": "code",
   "execution_count": 18,
   "metadata": {},
   "outputs": [],
   "source": [
    "# Classifier\n",
    "from textblob import classifiers\n",
    "classifier = classifiers.NaiveBayesClassifier(training)"
   ]
  },
  {
   "cell_type": "code",
   "execution_count": 19,
   "metadata": {},
   "outputs": [],
   "source": [
    "## decision tree classifier\n",
    "dt_classifier = classifiers.DecisionTreeClassifier(training)"
   ]
  },
  {
   "cell_type": "code",
   "execution_count": 20,
   "metadata": {},
   "outputs": [
    {
     "name": "stdout",
     "output_type": "stream",
     "text": [
      "1.0\n",
      "Most Informative Features\n",
      "            contains(is) = True              neg : pos    =      2.9 : 1.0\n",
      "             contains(a) = False             neg : pos    =      1.8 : 1.0\n",
      "      contains(terrible) = False             neg : pos    =      1.8 : 1.0\n"
     ]
    }
   ],
   "source": [
    "# Printing the accuracy level of the classifier and displaying the show_informative_features\n",
    "print (classifier.accuracy(testing))\n",
    "classifier.show_informative_features(3)"
   ]
  },
  {
   "cell_type": "code",
   "execution_count": 21,
   "metadata": {},
   "outputs": [
    {
     "name": "stdout",
     "output_type": "stream",
     "text": [
      "neg\n"
     ]
    }
   ],
   "source": [
    "# Predicting the class of test tuple\n",
    "blob = TextBlob('the weather is terrible!', classifier=classifier)\n",
    "print (blob.classify())"
   ]
  },
  {
   "cell_type": "code",
   "execution_count": 22,
   "metadata": {},
   "outputs": [
    {
     "name": "stdout",
     "output_type": "stream",
     "text": [
      "neg\n"
     ]
    }
   ],
   "source": [
    "blob = TextBlob('this movie is interesting !', classifier=classifier)\n",
    "print (blob.classify())"
   ]
  },
  {
   "cell_type": "code",
   "execution_count": null,
   "metadata": {},
   "outputs": [],
   "source": []
  }
 ],
 "metadata": {
  "kernelspec": {
   "display_name": "Python 3",
   "language": "python",
   "name": "python3"
  },
  "language_info": {
   "codemirror_mode": {
    "name": "ipython",
    "version": 3
   },
   "file_extension": ".py",
   "mimetype": "text/x-python",
   "name": "python",
   "nbconvert_exporter": "python",
   "pygments_lexer": "ipython3",
   "version": "3.7.4"
  }
 },
 "nbformat": 4,
 "nbformat_minor": 2
}
